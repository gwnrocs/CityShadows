{
 "cells": [
  {
   "cell_type": "markdown",
   "metadata": {},
   "source": [
    "# CityShadows: Mapping Building Heights\n",
    "This notebook processes a JSON file with the following fields:\n",
    "\n",
    "- fileName – Latitude, longitude, and degrees (lat,long_deg).\n",
    "- objectType – Either \"structure\" or \"vegetation\".\n",
    "- distance – Object distance from the camera (float).\n",
    "- height – Estimated height of the object (float).\n",
    "- width – Estimated width of the object (float).\n",
    "- horizontalOffset – Horizontal position of the object in the image (-100 = leftmost, 0 = center, 100 = rightmost).\n",
    "- isCut – Array indicating whether the object is partially cut off in the image.\n",
    "\n",
    "The script matches each estimated height to the appropriate building footprint, using building geometries from a shapefile.\n",
    "\n",
    "For this study, we used a subset of **Makati City, Metro Manila**. The building footprints were obtained from https://www.geofabrik.de/.\n",
    "\n",
    "## Libraries"
   ]
  },
  {
   "cell_type": "code",
   "execution_count": null,
   "metadata": {},
   "outputs": [],
   "source": [
    "import geopandas as gpd\n",
    "import numpy as np\n",
    "import pandas as pd\n",
    "import matplotlib.pyplot as plt\n",
    "import math\n",
    "import json\n",
    "from shapely.geometry import Point, Polygon\n",
    "from shapely.affinity import rotate"
   ]
  },
  {
   "cell_type": "markdown",
   "metadata": {},
   "source": [
    "## Variables"
   ]
  },
  {
   "cell_type": "markdown",
   "metadata": {},
   "source": [
    "### shp files"
   ]
  },
  {
   "cell_type": "code",
   "execution_count": null,
   "metadata": {},
   "outputs": [],
   "source": [
    "small_makati = gpd.read_file(\"../../data/smaller_makati.shp\")\n",
    "buildings = gpd.read_file(\"../../data/gis_osm_buildings_a_free_1.shp\")\n",
    "less_makati_buildings = buildings[small_makati['geometry'].item().contains(buildings['geometry'])]"
   ]
  },
  {
   "cell_type": "markdown",
   "metadata": {},
   "source": [
    "### json"
   ]
  },
  {
   "cell_type": "code",
   "execution_count": null,
   "metadata": {},
   "outputs": [],
   "source": [
    "with open(\"output-updated.json\", \"r\") as f:\n",
    "    data = json.load(f)\n",
    "\n",
    "df = pd.DataFrame(data)\n",
    "\n",
    "structures_df = df[df['objectType'] == 'structure'].copy()\n",
    "\n",
    "# Remove entries with heights < 2 m or > 280 m\n",
    "structures_df = structures_df[(structures_df['height'] >= 2) & (structures_df['height'] <= 280)]\n",
    "\n",
    "print(f\"Found {len(structures_df)} structures after filtering\")\n",
    "print(f\"Unique files: {structures_df['fileName'].nunique()}\")\n",
    "structures_df.head()"
   ]
  },
  {
   "cell_type": "markdown",
   "metadata": {},
   "source": [
    "## Function Declaration\n",
    "### Calculate building position"
   ]
  },
  {
   "cell_type": "code",
   "execution_count": null,
   "metadata": {},
   "outputs": [],
   "source": [
    "def calculate_building_position(\n",
    "    lat: float,\n",
    "    lon: float,\n",
    "    bearing: float,\n",
    "    distance: float = None,              \n",
    "    horizontal_offset: float = 0.0,       \n",
    "    pitch_degrees: float = 20.0,        \n",
    "    fov_degrees: float = 120.0,          \n",
    "    camera_height: float = 2.45,          \n",
    "    structure_width: float = None,        \n",
    "    use_pitch_only: bool = False          \n",
    ") -> Polygon:\n",
    "\n",
    "    # Convert lat/lon to planar (meters)\n",
    "    camera_point = gpd.GeoSeries([Point(lon, lat)], crs=\"EPSG:4326\")\n",
    "    camera_xy = camera_point.to_crs(epsg=3857).iloc[0]\n",
    "\n",
    "    # Convert horizontal image offset to angular adjustment\n",
    "    ratio = horizontal_offset / 100.0\n",
    "    half_fov_rad = math.radians(fov_degrees / 2.0)\n",
    "    angle_offset = math.degrees(math.atan(ratio * math.tan(half_fov_rad)))\n",
    "    eff_bearing = bearing + angle_offset\n",
    "\n",
    "    # Pitch -> ground distance\n",
    "    pitch_rad = math.radians(-pitch_degrees)\n",
    "\n",
    "    if use_pitch_only:\n",
    "        ground_distance = camera_height / math.tan(pitch_rad)\n",
    "    else:\n",
    "        if distance is None:\n",
    "            raise ValueError(\"Slant distance required when use_pitch_only=False.\")\n",
    "        ground_distance = distance * math.cos(pitch_rad)\n",
    "\n",
    "    # Bearing to delta-x/y\n",
    "    rad = math.radians(eff_bearing)\n",
    "    dx = ground_distance * math.sin(rad)\n",
    "    dy = ground_distance * math.cos(rad)\n",
    "\n",
    "    # Final ground position\n",
    "    center_x = camera_xy.x + dx\n",
    "    center_y = camera_xy.y + dy\n",
    "    center_point = Point(center_x, center_y)\n",
    "\n",
    "    if structure_width is None:\n",
    "        return center_point\n",
    "\n",
    "    # Build axis-aligned square around center\n",
    "    half_w = structure_width / 2.0\n",
    "    square = Polygon([\n",
    "        (center_x - half_w, center_y - half_w),\n",
    "        (center_x + half_w, center_y - half_w),\n",
    "        (center_x + half_w, center_y + half_w),\n",
    "        (center_x - half_w, center_y + half_w),\n",
    "    ])\n",
    "\n",
    "    # Rotate to match direction of structure\n",
    "    rotated = rotate(square, eff_bearing, origin=center_point, use_radians=False)\n",
    "    return rotated"
   ]
  },
  {
   "cell_type": "markdown",
   "metadata": {},
   "source": [
    "## Prep buildings GeoDataFrame for GeoJSON export"
   ]
  },
  {
   "cell_type": "code",
   "execution_count": null,
   "metadata": {},
   "outputs": [],
   "source": [
    "buildings_with_height = less_makati_buildings.copy()\n",
    "buildings_with_height['height'] = np.nan\n",
    "buildings_with_height"
   ]
  },
  {
   "cell_type": "markdown",
   "metadata": {},
   "source": [
    "## Process all buildings and map to appropriate OSM ID"
   ]
  },
  {
   "cell_type": "markdown",
   "metadata": {},
   "source": [
    "Estimate building distance from camera, create a square polygon and the footprint with most intersection is assigned the height. If more than one assigned height, get the mean."
   ]
  },
  {
   "cell_type": "code",
   "execution_count": null,
   "metadata": {},
   "outputs": [],
   "source": [
    "max_match_dist = 20  \n",
    "less_makati_proj = less_makati_buildings.to_crs(epsg=3857)\n",
    "\n",
    "for col in ['source_fileName', 'horizontal_offset', 'is_cut']:\n",
    "    if col not in buildings_with_height.columns:\n",
    "        buildings_with_height[col] = None\n",
    "\n",
    "height_obs = {}\n",
    "\n",
    "for idx, row in structures_df.iterrows():\n",
    "    try:\n",
    "        # Parse camera lat/lon and viewing angle\n",
    "        lat, lon = map(float, row['fileName'].split('_')[0].split(','))\n",
    "        angle = float(row['fileName'].split('_')[1])\n",
    "\n",
    "        # Compute rotated footprint polygon\n",
    "        footprint = calculate_building_position(\n",
    "            lat=lat,\n",
    "            lon=lon,\n",
    "            bearing=angle,\n",
    "            distance=row['distance'],\n",
    "            horizontal_offset=row['horizontalOffset'],\n",
    "            structure_width=row['width'],\n",
    "            camera_height=2.45,\n",
    "            use_pitch_only=False\n",
    "        )\n",
    "\n",
    "        # Try polygon‐based match\n",
    "        det_gdf = gpd.GeoDataFrame(\n",
    "            {'height_det': [row['height']], 'geometry': [footprint]},\n",
    "            crs=less_makati_proj.crs\n",
    "        )\n",
    "        inter = gpd.overlay(det_gdf, less_makati_proj, how='intersection')\n",
    "\n",
    "        osm_id = None\n",
    "        if not inter.empty:\n",
    "            inter['area'] = inter.geometry.area\n",
    "            best = inter.loc[inter['area'].idxmax()]\n",
    "            # check distance cap from structure centroid to matched building\n",
    "            if best.geometry.distance(footprint.centroid) <= max_match_dist:\n",
    "                osm_id = best['osm_id']\n",
    "\n",
    "        # Fallback: nearest building centroid to footprint centroid\n",
    "        if osm_id is None:\n",
    "            center = footprint.centroid\n",
    "            dists = less_makati_proj.geometry.distance(center)\n",
    "            valid = dists[dists <= max_match_dist]\n",
    "            if valid.empty:\n",
    "                print(f\"Structure #{idx+1}: no match within {max_match_dist}m → skipped\")\n",
    "                continue\n",
    "            nearest_idx = valid.idxmin()\n",
    "            osm_id = less_makati_proj.at[nearest_idx, 'osm_id']\n",
    "\n",
    "        # Append height to structure\n",
    "        height_obs.setdefault(osm_id, []).append(row['height'])\n",
    "        # median_h = np.median(height_obs[osm_id])\n",
    "        mean_h = np.mean(height_obs[osm_id])\n",
    "\n",
    "\n",
    "        # Update building record\n",
    "        sel = buildings_with_height['osm_id'] == osm_id\n",
    "        # buildings_with_height.loc[sel, 'height'] = median_h\n",
    "        buildings_with_height.loc[sel, 'height'] = mean_h\n",
    "        buildings_with_height.loc[sel, 'source_fileName'] = (\n",
    "            buildings_with_height.loc[sel, 'source_fileName'].fillna('') + \";\" + row['fileName']\n",
    "        )\n",
    "        buildings_with_height.loc[sel, 'horizontal_offset'] = row['horizontalOffset']\n",
    "        buildings_with_height.loc[sel, 'is_cut'] = (\n",
    "            ','.join(row['isCut']) if isinstance(row['isCut'], list) else str(row['isCut'])\n",
    "        )\n",
    "\n",
    "        # print(f\"Structure #{idx+1} -> OSM {osm_id}: median height={median_h:.2f} m\")\n",
    "        print(f\"Structure #{idx+1} -> OSM {osm_id}: mean height={mean_h:.2f} m\")\n",
    "\n",
    "    except Exception as e:\n",
    "        print(f\"[ERROR] Structure #{idx+1} → {e}\")\n",
    "        continue\n",
    "\n",
    "# Summary\n",
    "print(f\"\\nTotal structures processed:   {len(structures_df)}\")\n",
    "print(f\"Unique buildings seen:          {len(height_obs)}\")\n",
    "print(f\"Buildings with height data:     {buildings_with_height['height'].notna().sum()}\")"
   ]
  },
  {
   "cell_type": "markdown",
   "metadata": {},
   "source": [
    "## Visualization"
   ]
  },
  {
   "cell_type": "code",
   "execution_count": null,
   "metadata": {},
   "outputs": [],
   "source": [
    "fig, (ax1, ax2) = plt.subplots(1, 2, figsize=(20, 10))\n",
    "\n",
    "less_makati_buildings.plot(ax=ax1, color='lightgray', edgecolor='black', alpha=0.7)\n",
    "buildings_with_height[buildings_with_height['height'].notna()].plot(\n",
    "    ax=ax1, color='red', edgecolor='darkred', alpha=0.8\n",
    ")\n",
    "ax1.set_title('Buildings with Height Data (Red = Matched Buildings)')\n",
    "ax1.set_xlabel('Longitude')\n",
    "ax1.set_ylabel('Latitude')\n",
    "\n",
    "buildings_with_height_only = buildings_with_height[buildings_with_height['height'].notna()]\n",
    "if not buildings_with_height_only.empty:\n",
    "    buildings_with_height_only.plot(\n",
    "        ax=ax2, column='height', cmap='viridis', legend=True, \n",
    "        edgecolor='black', alpha=0.8\n",
    "    )\n",
    "    ax2.set_title('Building Heights (Colored by Height)')\n",
    "    ax2.set_xlabel('Longitude')\n",
    "    ax2.set_ylabel('Latitude')\n",
    "\n",
    "plt.tight_layout()\n",
    "plt.savefig(\"building_heights.png\", dpi=300) \n",
    "plt.show()"
   ]
  },
  {
   "cell_type": "markdown",
   "metadata": {},
   "source": [
    "## Export GDF to GeoJSON file"
   ]
  },
  {
   "cell_type": "code",
   "execution_count": null,
   "metadata": {},
   "outputs": [],
   "source": [
    "buildings_with_height.to_file(\"buildings_dataset.geojson\", driver=\"GeoJSON\")"
   ]
  }
 ],
 "metadata": {
  "kernelspec": {
   "display_name": "Python 3",
   "language": "python",
   "name": "python3"
  },
  "language_info": {
   "codemirror_mode": {
    "name": "ipython",
    "version": 3
   },
   "file_extension": ".py",
   "mimetype": "text/x-python",
   "name": "python",
   "nbconvert_exporter": "python",
   "pygments_lexer": "ipython3",
   "version": "3.9.0"
  }
 },
 "nbformat": 4,
 "nbformat_minor": 2
}
