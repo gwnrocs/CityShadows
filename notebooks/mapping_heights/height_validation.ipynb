{
 "cells": [
  {
   "cell_type": "markdown",
   "id": "6a29ed21",
   "metadata": {},
   "source": [
    "# City Shadows: Building Height Validation\n",
    "This notebook validates the estimated building heights mapped via `mapping_buildings.ipynb` against OSM building height data."
   ]
  },
  {
   "cell_type": "markdown",
   "id": "64fb97a3",
   "metadata": {},
   "source": [
    "## I. Import Libraries"
   ]
  },
  {
   "cell_type": "code",
   "execution_count": null,
   "id": "0ffd5edc",
   "metadata": {},
   "outputs": [],
   "source": [
    "import os\n",
    "import pandas as pd\n",
    "import numpy as np\n",
    "import csv\n",
    "import json\n",
    "import matplotlib.pyplot as plt\n",
    "import seaborn as sns\n",
    "from scipy.stats import spearmanr\n",
    "from sklearn.metrics import mean_absolute_error, mean_squared_error\n",
    "import requests\n",
    "import time\n",
    "from tqdm import tqdm \n",
    "\n",
    "# pip installed openpyxl, seaborn"
   ]
  },
  {
   "cell_type": "markdown",
   "id": "37cbe1ca",
   "metadata": {},
   "source": [
    "Define paths"
   ]
  },
  {
   "cell_type": "code",
   "execution_count": null,
   "id": "b8c4f565",
   "metadata": {},
   "outputs": [],
   "source": [
    "excel_path = \"dataset_manual.xlsx\"\n",
    "geojson_path = \"buildings_dataset_updated_real_mean.geojson\"\n",
    "osm_ids_path = \"osm_ids.txt\"\n",
    "osm_heights_path = \"osm_heights.csv\""
   ]
  },
  {
   "cell_type": "markdown",
   "id": "a4eadc72",
   "metadata": {},
   "source": [
    "## II. Format geojson and excel files"
   ]
  },
  {
   "cell_type": "markdown",
   "id": "0b16e1e3",
   "metadata": {},
   "source": [
    "A. Helper Functions"
   ]
  },
  {
   "cell_type": "code",
   "execution_count": null,
   "id": "7038a352",
   "metadata": {},
   "outputs": [],
   "source": [
    "# Separate values by comma or new line\n",
    "def split_column(value, delimiter):\n",
    "    if pd.isna(value):\n",
    "        return []\n",
    "    return [v.strip() for v in str(value).split(delimiter) if v.strip()]"
   ]
  },
  {
   "cell_type": "markdown",
   "id": "5ba7bb9d",
   "metadata": {},
   "source": [
    "B. EXCEL File"
   ]
  },
  {
   "cell_type": "code",
   "execution_count": null,
   "id": "4b547944",
   "metadata": {},
   "outputs": [],
   "source": [
    "# Read the excel file\n",
    "df_excel = pd.read_excel(excel_path, sheet_name=\"Building\")\n",
    "\n",
    "# Separate values by comma or new line\n",
    "df_excel[\"OSM ID\"] = df_excel[\"OSM ID\"].astype(str)\n",
    "df_excel['Category'] = df_excel['Category'].apply(lambda x: split_column(x, ','))\n",
    "df_excel['Height'] = df_excel['Height'].apply(lambda x: split_column(x, ','))\n",
    "df_excel['File Names'] = df_excel['File Names'].apply(lambda x: split_column(x, '\\n'))\n",
    "\n",
    "# Drop columns\n",
    "df_excel = df_excel.drop(columns=[\"Category\", \"Source\", \"File Names\", \"Building Name\"])\n",
    "\n",
    "print(df_excel)"
   ]
  },
  {
   "cell_type": "markdown",
   "id": "9012e86b",
   "metadata": {},
   "source": [
    "C. GEOJSON File"
   ]
  },
  {
   "cell_type": "code",
   "execution_count": null,
   "id": "0c4161e9",
   "metadata": {},
   "outputs": [],
   "source": [
    "# Load GeoJSON data\n",
    "with open(geojson_path, \"r\", encoding=\"utf-8\") as f:\n",
    "    geojson_data = json.load(f)\n",
    "\n",
    "# Extract osm_id, name, and height from GeoJSON\n",
    "records = []\n",
    "for feature in geojson_data[\"features\"]:\n",
    "    props = feature[\"properties\"]\n",
    "    osm_id = props.get(\"osm_id\")\n",
    "    name = props.get(\"name\")\n",
    "    height = props.get(\"height\")\n",
    "    \n",
    "    if osm_id in df_excel[\"OSM ID\"].values:\n",
    "        records.append({\"OSM ID\": osm_id, \"Building Name\": name, \"Height\": height})\n",
    "\n",
    "# Create df_geojson\n",
    "df_geojson = pd.DataFrame(records)\n",
    "\n",
    "print(df_geojson)"
   ]
  },
  {
   "cell_type": "markdown",
   "id": "148f9c1b",
   "metadata": {},
   "source": [
    "## III. Evaluate estimated heights with manually identified heights"
   ]
  },
  {
   "cell_type": "code",
   "execution_count": null,
   "id": "39904b52",
   "metadata": {},
   "outputs": [],
   "source": [
    "# Merge Excel and GeoJSON dataframes\n",
    "merged_df = pd.merge(df_excel, df_geojson, on=\"OSM ID\", suffixes=('_excel', '_geojson'))\n",
    "\n",
    "print(merged_df)"
   ]
  },
  {
   "cell_type": "markdown",
   "id": "9021f511",
   "metadata": {},
   "source": [
    "A. Spearman Rank Correlation\n",
    "- To measure how well the order of estimated heights matches the order of actual heights.\n",
    "- To tell whether taller buildings are consistently estimated to be taller."
   ]
  },
  {
   "cell_type": "code",
   "execution_count": null,
   "id": "2c181598",
   "metadata": {},
   "outputs": [],
   "source": [
    "from scipy.stats import spearmanr\n",
    "import seaborn as sns\n",
    "import matplotlib.pyplot as plt\n",
    "\n",
    "# Prepare comparison data\n",
    "spearman_data = []\n",
    "\n",
    "for _, row in merged_df.iterrows():\n",
    "    predicted = row[\"Height_geojson\"]\n",
    "    actuals = row[\"Height_excel\"]\n",
    "\n",
    "    if isinstance(actuals, list) and len(actuals) > 0:\n",
    "        try:\n",
    "            actual_floats = [float(a) for a in actuals if str(a).strip() != \"\"]\n",
    "        except ValueError:\n",
    "            continue\n",
    "\n",
    "        closest_actual = min(actual_floats, key=lambda x: abs(x - predicted))\n",
    "        spearman_data.append((predicted, closest_actual))\n",
    "\n",
    "# Unpack as lists (not tuples!)\n",
    "predicted_heights, actual_heights = zip(*spearman_data)\n",
    "predicted_heights = list(predicted_heights)\n",
    "actual_heights = list(actual_heights)\n",
    "\n",
    "# Compute Spearman correlation\n",
    "spearman_corr, p_value = spearmanr(predicted_heights, actual_heights)\n",
    "\n",
    "print(f\"Spearman Rank Correlation: {spearman_corr:.4f}\")\n",
    "print(f\"P-value: {p_value:.4f}\")\n",
    "\n",
    "# Visualization\n",
    "plt.figure(figsize=(4, 4))  # Square aspect ratio\n",
    "sns.regplot(\n",
    "    x=actual_heights,\n",
    "    y=predicted_heights,\n",
    "    scatter_kws={'s': 50},\n",
    "    line_kws={'color': 'green'}\n",
    ")\n",
    "plt.title(\"Spearman Correlation: Predicted vs Actual Heights\")\n",
    "plt.xlabel(\"Actual Height (m)\")\n",
    "plt.ylabel(\"Predicted Height (m)\")\n",
    "plt.grid(True)\n",
    "\n",
    "# Determine maximum value to set symmetrical square limits\n",
    "max_val_x = max(actual_heights)\n",
    "max_val_y = max(predicted_heights)\n",
    "\n",
    "# Set limits: both start at 0 and end at max_val (ensures no negatives)\n",
    "plt.xlim(0, max_val_x+10)\n",
    "plt.ylim(0, max_val_y+10)\n",
    "\n",
    "# Optional: Add y = x reference line\n",
    "#plt.plot([0, max_val_y], [0, max_val_x], color='red', linestyle='--', label='Perfect Prediction')\n",
    "#plt.legend()\n",
    "\n",
    "plt.tight_layout()\n",
    "plt.show()"
   ]
  },
  {
   "cell_type": "markdown",
   "id": "aedfa8a1",
   "metadata": {},
   "source": [
    "B. Mean Absolute Error / Root Mean Squared Error\n",
    "- For accuracy"
   ]
  },
  {
   "cell_type": "code",
   "execution_count": null,
   "id": "9b5a732e",
   "metadata": {},
   "outputs": [],
   "source": [
    "import numpy as np\n",
    "import pandas as pd\n",
    "from sklearn.metrics import mean_absolute_error, mean_squared_error\n",
    "import matplotlib.pyplot as plt\n",
    "\n",
    "# Merge Excel and GeoJSON dataframes\n",
    "merged_df = pd.merge(df_excel, df_geojson, on=\"OSM ID\", suffixes=('_excel', '_geojson'))\n",
    "\n",
    "# Prepare comparison lists\n",
    "comparison_data = []\n",
    "\n",
    "for _, row in merged_df.iterrows():\n",
    "    height_geojson = row[\"Height_geojson\"]  # predicted\n",
    "    height_excel = row[\"Height_excel\"]  # actual list\n",
    "\n",
    "    # Ensure valid height list\n",
    "    if isinstance(height_excel, list) and len(height_excel) > 0:\n",
    "        try:\n",
    "            height_excel_floats = [float(h) for h in height_excel if str(h).strip() != \"\"]\n",
    "        except ValueError:\n",
    "            continue\n",
    "\n",
    "        closest_actual = min(height_excel_floats, key=lambda x: abs(x - height_geojson))\n",
    "\n",
    "        comparison_data.append({\n",
    "            \"Building Name\": row.get(\"Building Name\", \"\"),\n",
    "            \"Predicted Height\": height_geojson,\n",
    "            \"Actual Height\": closest_actual\n",
    "        })\n",
    "\n",
    "# Convert to DataFrame and sort by predicted height\n",
    "df_comparison = pd.DataFrame(comparison_data)\n",
    "df_comparison = df_comparison.sort_values(by=\"Actual Height\").reset_index(drop=True)\n",
    "\n",
    "# Calculate errors\n",
    "mae = mean_absolute_error(df_comparison[\"Actual Height\"], df_comparison[\"Predicted Height\"])\n",
    "rmse = np.sqrt(mean_squared_error(df_comparison[\"Actual Height\"], df_comparison[\"Predicted Height\"]))\n",
    "\n",
    "print(f\"Mean Absolute Error (MAE): {mae:.2f} meters\")\n",
    "# print(f\"Root Mean Squared Error (RMSE): {rmse:.2f} meters\")\n",
    "\n",
    "# Visualization\n",
    "plt.figure(figsize=(8, 4))\n",
    "x = range(len(df_comparison))\n",
    "\n",
    "plt.plot(x, df_comparison[\"Predicted Height\"], label=\"Predicted Height\", color=\"blue\", marker='o')\n",
    "plt.plot(x, df_comparison[\"Actual Height\"], label=\"Actual Height\", color=\"red\", marker='x')\n",
    "\n",
    "plt.title(\"Building Height Comparison (Sorted by Actual Height)\")\n",
    "plt.xlabel(\"Buildings (sorted)\")\n",
    "plt.ylabel(\"Height (meters)\")\n",
    "plt.legend()\n",
    "plt.grid(True)\n",
    "plt.tight_layout()\n",
    "plt.show()"
   ]
  },
  {
   "cell_type": "markdown",
   "id": "ac4fcb6c",
   "metadata": {},
   "source": [
    "## IV. Evaluate estimated heights with OSM heights"
   ]
  },
  {
   "cell_type": "markdown",
   "id": "76ff63e4",
   "metadata": {},
   "source": [
    "A. Extract osm ids to osm_ids.txt"
   ]
  },
  {
   "cell_type": "code",
   "execution_count": null,
   "id": "4fdd34dc",
   "metadata": {},
   "outputs": [],
   "source": [
    "# Load GeoJSON\n",
    "with open(geojson_path, \"r\", encoding=\"utf-8\") as f:\n",
    "    data = json.load(f)\n",
    "\n",
    "# Extract osm_ids\n",
    "osm_ids = []\n",
    "for feature in data.get(\"features\", []):\n",
    "    props = feature.get(\"properties\", {})\n",
    "    height = props.get(\"height\")\n",
    "    if height is not None:\n",
    "        osm_id = props.get(\"osm_id\")\n",
    "        osm_ids.append(str(osm_id))\n",
    "\n",
    "# Write to text file\n",
    "with open(osm_ids_path, \"w\", encoding=\"utf-8\") as f:\n",
    "    for osm_id in osm_ids:\n",
    "        f.write(osm_id + \"\\n\")\n",
    "\n",
    "print(f\"✅ Saved {len(osm_ids)} OSM IDs to: {osm_ids_path}\")"
   ]
  },
  {
   "cell_type": "markdown",
   "id": "3fc6a5fb",
   "metadata": {},
   "source": [
    "B. Generate csv of osm_ids with their corresponding heights (if there are)"
   ]
  },
  {
   "cell_type": "code",
   "execution_count": null,
   "id": "4ae3bc33",
   "metadata": {},
   "outputs": [],
   "source": [
    "# Load OSM IDs\n",
    "with open(osm_ids_path, \"r\") as f:\n",
    "    osm_ids = [line.strip() for line in f if line.strip().isdigit()]\n",
    "\n",
    "# Load already processed if output exists\n",
    "if os.path.exists(osm_heights_path) and os.path.getsize(osm_heights_path) > 0:\n",
    "    try:\n",
    "        df_existing = pd.read_csv(osm_heights_path)\n",
    "        processed_ids = set(df_existing[\"osm_id\"].astype(str))\n",
    "    except pd.errors.EmptyDataError:\n",
    "        df_existing = pd.DataFrame(columns=[\"osm_id\", \"height\"])\n",
    "        processed_ids = set()\n",
    "else:\n",
    "    df_existing = pd.DataFrame(columns=[\"osm_id\", \"height\"])\n",
    "    processed_ids = set()\n",
    "\n",
    "def get_osm_height(osm_type, osm_id):\n",
    "    query = f\"\"\"\n",
    "    [out:json];\n",
    "    {osm_type}({osm_id});\n",
    "    out tags;\n",
    "    \"\"\"\n",
    "    url = \"https://overpass-api.de/api/interpreter\"\n",
    "    try:\n",
    "        response = requests.post(url, data={\"data\": query})\n",
    "        response.raise_for_status()\n",
    "        elements = response.json().get(\"elements\", [])\n",
    "        if elements:\n",
    "            return elements[0][\"tags\"].get(\"height\")\n",
    "    except Exception as e:\n",
    "        print(f\"Error for ({osm_id}): {e}\")\n",
    "    return None\n",
    "\n",
    "# Open file in append mode\n",
    "with open(osm_heights_path, \"a\", newline=\"\", encoding=\"utf-8\") as f_out:\n",
    "    for osm_id in tqdm(osm_ids, desc=\"Fetching heights\"):\n",
    "        if osm_id in processed_ids:\n",
    "            continue\n",
    "\n",
    "        height = get_osm_height(\"way\", osm_id)\n",
    "        # Append result as a new line to the file\n",
    "        f_out.write(f\"{osm_id},{height if height else ''}\\n\")\n",
    "        f_out.flush()\n",
    "        time.sleep(1)"
   ]
  },
  {
   "cell_type": "markdown",
   "id": "40f8fd01",
   "metadata": {},
   "source": [
    "C. CSV File (Ground truth)"
   ]
  },
  {
   "cell_type": "code",
   "execution_count": null,
   "id": "c46de8f2",
   "metadata": {},
   "outputs": [],
   "source": [
    "# Load the CSV into a DataFrame\n",
    "csv_path = \"osm_heights.csv\"\n",
    "df_csv = pd.read_csv(csv_path)\n",
    "\n",
    "# Ensure osm_id is a string\n",
    "df_csv[\"osm_id\"] = df_csv[\"osm_id\"].astype(str)\n",
    "\n",
    "# Keep only rows with valid (non-null and non-empty) heights\n",
    "df_csv = df_csv[df_csv[\"height\"].notnull() & (df_csv[\"height\"] != \"\")]\n",
    "\n",
    "# Optional: convert height to float for further use\n",
    "df_csv[\"height\"] = df_csv[\"height\"].astype(float)\n",
    "\n",
    "# Print filtered results\n",
    "print(df_csv)\n"
   ]
  },
  {
   "cell_type": "markdown",
   "id": "8b79da26",
   "metadata": {},
   "source": [
    "D. GEOJSON File (Estimation)"
   ]
  },
  {
   "cell_type": "code",
   "execution_count": null,
   "id": "313fde1c",
   "metadata": {},
   "outputs": [],
   "source": [
    "# Load GeoJSON data\n",
    "with open(geojson_path, \"r\", encoding=\"utf-8\") as f:\n",
    "    geojson_data = json.load(f)\n",
    "\n",
    "# Extract osm_id, name, and height from GeoJSON\n",
    "records = []\n",
    "for feature in geojson_data[\"features\"]:\n",
    "    props = feature[\"properties\"]\n",
    "    osm_id = props.get(\"osm_id\")\n",
    "    name = props.get(\"name\")\n",
    "    height = props.get(\"height\")\n",
    "    \n",
    "    if osm_id in df_csv[\"osm_id\"].values:\n",
    "        records.append({\"osm_id\": osm_id, \"height\": height})\n",
    "\n",
    "# Create df_geojson\n",
    "df_geojson = pd.DataFrame(records)\n",
    "\n",
    "print(df_geojson)"
   ]
  },
  {
   "cell_type": "markdown",
   "id": "5925e415",
   "metadata": {},
   "source": [
    "E. Merge csv and geojson into one df"
   ]
  },
  {
   "cell_type": "code",
   "execution_count": null,
   "id": "73603bc2",
   "metadata": {},
   "outputs": [],
   "source": [
    "# Ensure osm_id is string for reliable merge\n",
    "df_csv[\"osm_id\"] = df_csv[\"osm_id\"].astype(str)\n",
    "df_geojson[\"osm_id\"] = df_geojson[\"osm_id\"].astype(str)\n",
    "\n",
    "# Merge the two DataFrames on 'osm_id'\n",
    "merged_df = pd.merge(df_csv, df_geojson, on=\"osm_id\", suffixes=('_actual', '_estimated'))\n",
    "\n",
    "# Drop rows with missing or invalid heights\n",
    "merged_df = merged_df.dropna(subset=[\"height_actual\", \"height_estimated\"])\n",
    "\n",
    "# Convert heights to float (if not already)\n",
    "merged_df[\"height_actual\"] = merged_df[\"height_actual\"].astype(float)\n",
    "merged_df[\"height_estimated\"] = merged_df[\"height_estimated\"].astype(float)\n",
    "\n",
    "# Extract values\n",
    "actual_heights = merged_df[\"height_actual\"].values\n",
    "estimated_heights = merged_df[\"height_estimated\"].values"
   ]
  },
  {
   "cell_type": "code",
   "execution_count": null,
   "id": "e74f5d42",
   "metadata": {},
   "outputs": [],
   "source": [
    "# Define 5-meter bins\n",
    "bin_edges = np.arange(0, merged_df[\"height_actual\"].max() + 5, 5)\n",
    "merged_df[\"height_bin\"] = pd.cut(merged_df[\"height_actual\"], bins=bin_edges)\n",
    "\n",
    "# Compute signed mean error (Actual - Estimated)\n",
    "def signed_error(group):\n",
    "    if len(group) == 0:\n",
    "        return np.nan\n",
    "    return (group[\"height_actual\"] - group[\"height_estimated\"]).mean()\n",
    "\n",
    "mean_error_per_bin = merged_df.groupby(\"height_bin\").apply(signed_error).dropna()\n",
    "\n",
    "# Compute midpoints for x-axis labels\n",
    "mean_error_per_bin.index = mean_error_per_bin.index.map(lambda interval: interval.mid)\n",
    "\n",
    "# Plot\n",
    "plt.figure(figsize=(6, 4))\n",
    "plt.bar(mean_error_per_bin.index, mean_error_per_bin.values, width=4.5, color=\"lightcoral\", edgecolor=\"black\")\n",
    "plt.axhline(0, color=\"black\", linestyle=\"--\")\n",
    "plt.xlabel(\"OSM Height (m)\")\n",
    "plt.ylabel(\"OSM Height - Estimated Height (m)\")\n",
    "plt.grid(True, axis='both', zorder=1)\n",
    "plt.xticks(rotation=0)\n",
    "plt.yticks(np.arange(-25, 301, 25))\n",
    "plt.tight_layout()\n",
    "plt.show()"
   ]
  },
  {
   "cell_type": "code",
   "execution_count": null,
   "id": "59262c13",
   "metadata": {},
   "outputs": [],
   "source": [
    "# Define 5-meter bins\n",
    "bin_edges = np.arange(0, merged_df[\"height_actual\"].max() + 5, 5)\n",
    "merged_df[\"height_bin\"] = pd.cut(merged_df[\"height_actual\"], bins=bin_edges)\n",
    "\n",
    "# Compute MAE only for non-empty groups\n",
    "def safe_mae(group):\n",
    "    if len(group) == 0:\n",
    "        return np.nan\n",
    "    return mean_absolute_error(group[\"height_actual\"], group[\"height_estimated\"])\n",
    "\n",
    "mae_per_bin = merged_df.groupby(\"height_bin\").apply(safe_mae).dropna()\n",
    "\n",
    "# Compute midpoints for bin labels\n",
    "mae_per_bin.index = mae_per_bin.index.map(lambda interval: interval.mid)\n",
    "\n",
    "plt.figure(figsize=(8, 4))\n",
    "plt.bar(mae_per_bin.index, mae_per_bin.values, width=4.5, color=\"skyblue\", edgecolor=\"black\")\n",
    "plt.title(\"Height Estimation Error by Building Height Range (5m Bins)\")\n",
    "plt.xlabel(\"Actual Height (m)\")\n",
    "plt.ylabel(\"MAE (m)\")\n",
    "plt.grid(True, axis='y')\n",
    "plt.xticks(rotation=0)\n",
    "plt.tight_layout()\n",
    "plt.show()"
   ]
  },
  {
   "cell_type": "markdown",
   "id": "88a8ece4",
   "metadata": {},
   "source": [
    "E. Spearman Rank Corellation"
   ]
  },
  {
   "cell_type": "code",
   "execution_count": null,
   "id": "3659668f",
   "metadata": {},
   "outputs": [],
   "source": [
    "# Compute Spearman Rank Correlation\n",
    "corr, p_value = spearmanr(actual_heights, estimated_heights)\n",
    "print(f\"Spearman Rank Correlation: {corr:.4f}\")\n",
    "print(f\"P-value: {p_value:.4f}\")\n",
    "\n",
    "# Visualization\n",
    "plt.figure(figsize=(6, 4))  # Square aspect ratio\n",
    "sns.regplot(\n",
    "    x=actual_heights,\n",
    "    y=estimated_heights,\n",
    "    scatter_kws={'s': 10, 'alpha': 0.5},\n",
    "    line_kws={'color': 'green'}\n",
    ")\n",
    "\n",
    "# Add 1:1 reference line (red)\n",
    "min_val = min(min(actual_heights), min(estimated_heights))\n",
    "max_val = max(max(actual_heights), max(estimated_heights))\n",
    "plt.plot([min_val, max_val], [min_val, max_val], color='red', linestyle='--', label='1:1 Line')\n",
    "\n",
    "plt.xlabel(\"OSM Height (m)\")\n",
    "plt.ylabel(\"Estimated Height (m)\")\n",
    "plt.grid(True)\n",
    "plt.legend()\n",
    "plt.tight_layout()\n",
    "plt.show()"
   ]
  },
  {
   "cell_type": "markdown",
   "id": "d81be578",
   "metadata": {},
   "source": [
    "F. Mean Absolute Error (MAE)"
   ]
  },
  {
   "cell_type": "code",
   "execution_count": null,
   "id": "167bd98e",
   "metadata": {},
   "outputs": [],
   "source": [
    "# Compute MAE\n",
    "mae = mean_absolute_error(actual_heights, estimated_heights)\n",
    "print(f\"MAE: {mae:.2f}\")\n",
    "\n",
    "\n",
    "# Visualization\n",
    "sorted_df = merged_df.sort_values(\"height_actual\").reset_index(drop=True)\n",
    "\n",
    "plt.figure(figsize=(6, 4))\n",
    "#plt.plot(sorted_df[\"height_actual\"], label=\"Actual\", color=\"red\", linewidth=2)\n",
    "#plt.plot(sorted_df[\"height_estimated\"], label=\"Estimated\", color=\"blue\", linestyle=\"--\", linewidth=2)\n",
    "plt.scatter(sorted_df.index, sorted_df[\"height_actual\"], label=\"OSM height\", color=\"red\", alpha=0.5, s=10)\n",
    "plt.scatter(sorted_df.index, sorted_df[\"height_estimated\"], label=\"Estimated height\", color=\"blue\", alpha=0.5, s=10)\n",
    "plt.xlabel(\"Building Index\")\n",
    "plt.ylabel(\"Height (m)\")\n",
    "plt.legend()\n",
    "plt.grid(True)\n",
    "\n",
    "# Determine maximum value to set symmetrical square limits\n",
    "max_val = max(actual_heights)\n",
    "plt.xlim(0, max_val+10)\n",
    "plt.ylim(0, max_val+10)\n",
    "plt.tight_layout()\n",
    "plt.show()"
   ]
  },
  {
   "cell_type": "code",
   "execution_count": null,
   "id": "71edba5c",
   "metadata": {},
   "outputs": [],
   "source": [
    "errors = estimated_heights - actual_heights\n",
    "plt.figure(figsize=(6, 4))\n",
    "plt.hist(errors, bins=50, color=\"orange\", edgecolor=\"black\")\n",
    "plt.axvline(0, color='black', linestyle='--')\n",
    "plt.title(\"Distribution of Height Estimation Errors\")\n",
    "plt.xlabel(\"Error (Estimated - Actual, m)\")\n",
    "plt.ylabel(\"Count\")\n",
    "plt.grid(True)\n",
    "plt.tight_layout()\n",
    "plt.show()"
   ]
  }
 ],
 "metadata": {
  "kernelspec": {
   "display_name": "thesis_env",
   "language": "python",
   "name": "python3"
  },
  "language_info": {
   "codemirror_mode": {
    "name": "ipython",
    "version": 3
   },
   "file_extension": ".py",
   "mimetype": "text/x-python",
   "name": "python",
   "nbconvert_exporter": "python",
   "pygments_lexer": "ipython3",
   "version": "3.11.9"
  }
 },
 "nbformat": 4,
 "nbformat_minor": 5
}
