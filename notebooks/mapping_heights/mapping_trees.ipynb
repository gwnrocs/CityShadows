{
 "cells": [
  {
   "cell_type": "markdown",
   "metadata": {},
   "source": [
    "# CityShadows: Mapping Trees\n",
    "This notebook processes a JSON file with the following fields:\n",
    "\n",
    "- fileName – Latitude, longitude, and degrees (lat,long_deg).\n",
    "- objectType – Either \"structure\" or \"vegetation\".\n",
    "- distance – Object distance from the camera (float).\n",
    "- height – Estimated height of the object (float).\n",
    "- width – Estimated width of the object (float).\n",
    "- horizontalOffset – Horizontal position of the object in the image (-100 = leftmost, 0 = center, 100 = rightmost).\n",
    "- isCut – Array indicating whether the object is partially cut off in the image.\n",
    "\n",
    "The script generates tree polygons with height and width values taken from the JSON file, along with an estimated length. Based on the recorded distance, this polygon is projected onto its corresponding location on the map.\n",
    "\n",
    "For this study, we used a subset of **Makati City, Metro Manila**. Building footprints from GeoFabrik (https://www.geofabrik.de/) were incorporated for visualization purposes only in this notebook.\n",
    "\n",
    "## Libraries"
   ]
  },
  {
   "cell_type": "code",
   "execution_count": null,
   "metadata": {},
   "outputs": [],
   "source": [
    "import geopandas as gpd\n",
    "import pandas as pd\n",
    "import matplotlib.pyplot as plt\n",
    "import numpy as np\n",
    "import json\n",
    "import math\n",
    "from shapely.affinity import rotate, translate\n",
    "from shapely.geometry import box, Point"
   ]
  },
  {
   "cell_type": "markdown",
   "metadata": {},
   "source": [
    "## Variables\n",
    "### shp files"
   ]
  },
  {
   "cell_type": "code",
   "execution_count": null,
   "metadata": {},
   "outputs": [],
   "source": [
    "small_makati = gpd.read_file(\"../../data/smaller_makati.shp\")\n",
    "buildings = gpd.read_file(\"../../data/gis_osm_buildings_a_free_1.shp\")\n",
    "less_makati_buildings = buildings[small_makati['geometry'].item().contains(buildings['geometry'])]"
   ]
  },
  {
   "cell_type": "markdown",
   "metadata": {},
   "source": [
    "### json"
   ]
  },
  {
   "cell_type": "code",
   "execution_count": null,
   "metadata": {},
   "outputs": [],
   "source": [
    "with open(\"output.json\", \"r\") as f:\n",
    "    data = json.load(f)\n",
    "\n",
    "df = pd.DataFrame(data)\n",
    "\n",
    "trees_df = df[df['objectType'] == 'vegetation'].copy()\n",
    "\n",
    "# Remove entries with height < 2m or > 20m and width > 20m\n",
    "trees_df = trees_df[(trees_df['height'] >= 2) & (trees_df['height'] <= 20) & (trees_df['width'] <= 20)]\n",
    "\n",
    "print(f\"Found {len(trees_df)} trees after filtering\")\n",
    "print(f\"Unique files: {trees_df['fileName'].nunique()}\")\n",
    "trees_df.head()"
   ]
  },
  {
   "cell_type": "markdown",
   "metadata": {},
   "source": [
    "## Function Declaration\n",
    "### Calculate tree position based on distance, offset, and camera configurations"
   ]
  },
  {
   "cell_type": "code",
   "execution_count": null,
   "metadata": {},
   "outputs": [],
   "source": [
    "def calculate_tree_position(\n",
    "    lat: float,\n",
    "    lon: float,\n",
    "    bearing: float,\n",
    "    distance: float = None,              \n",
    "    horizontal_offset: float = 0.0,       \n",
    "    pitch_degrees: float = 20.0,        \n",
    "    fov_degrees: float = 120.0,          \n",
    "    camera_height: float = 2.45,\n",
    ") -> Point:\n",
    "    camera_xy = (\n",
    "        gpd.GeoSeries([Point(lon, lat)], crs=\"EPSG:4326\")\n",
    "           .to_crs(epsg=3857)\n",
    "           .iloc[0]\n",
    "    )\n",
    "\n",
    "    ratio = horizontal_offset / 100.0\n",
    "    half_fov_rad = math.radians(fov_degrees / 2.0)\n",
    "    angle_offset = math.degrees(math.atan(ratio * math.tan(half_fov_rad)))\n",
    "    eff_bearing = bearing + angle_offset\n",
    "\n",
    "    if distance <= camera_height:\n",
    "        raise ValueError(\"Tree distance must be greater than camera height.\")\n",
    "    ground_distance = math.sqrt(distance**2 - camera_height**2)\n",
    "\n",
    "    rad = math.radians(eff_bearing)\n",
    "    dx = ground_distance * math.sin(rad)\n",
    "    dy = ground_distance * math.cos(rad)\n",
    "\n",
    "    return Point(camera_xy.x + dx, camera_xy.y + dy)"
   ]
  },
  {
   "cell_type": "markdown",
   "metadata": {},
   "source": [
    "### Estimate tree length given width"
   ]
  },
  {
   "cell_type": "code",
   "execution_count": null,
   "metadata": {},
   "outputs": [],
   "source": [
    "def estimate_length(row):\n",
    "    w = row[\"width\"]\n",
    "    if w <= 10:\n",
    "        return min(w * np.random.uniform(0.9, 1.1), 5)\n",
    "    else:\n",
    "        return min(w * 0.5, 5)"
   ]
  },
  {
   "cell_type": "markdown",
   "metadata": {},
   "source": [
    "## Prep trees GeoDataFrame for GeoJSON export"
   ]
  },
  {
   "cell_type": "code",
   "execution_count": null,
   "metadata": {},
   "outputs": [],
   "source": [
    "tree_dataset = gpd.GeoDataFrame(\n",
    "    columns=['fileName', 'height', 'width', 'length', 'centerPoint', 'geometry'],\n",
    "    geometry='geometry',\n",
    "    crs='EPSG:4326'  \n",
    ")\n",
    "tree_dataset"
   ]
  },
  {
   "cell_type": "markdown",
   "metadata": {},
   "source": [
    "## Process trees and project points based on their location"
   ]
  },
  {
   "cell_type": "code",
   "execution_count": null,
   "metadata": {},
   "outputs": [],
   "source": [
    "tree_dataset = gpd.GeoDataFrame(\n",
    "    tree_dataset,\n",
    "    geometry='geometry',\n",
    "    crs='EPSG:4326'\n",
    ")\n",
    "\n",
    "# Populate with center_point and calculated length\n",
    "total = len(trees_df)\n",
    "print(f\"Starting to process {total} trees...\\n\")\n",
    "\n",
    "for i, (_, row) in enumerate(trees_df.iterrows(), start=1):\n",
    "    print(f\"[{i}/{total}] Processing tree '{row['fileName']}'\")\n",
    "    \n",
    "    # Parse camera info\n",
    "    lat_lon, ang = row['fileName'].split('_')\n",
    "    lat, lon = map(float, lat_lon.split(','))\n",
    "    bearing = float(ang)\n",
    "    \n",
    "    h = float(row['height'])\n",
    "    w = float(row['width'])\n",
    "    off = float(row['horizontalOffset'])\n",
    "    \n",
    "    center_merc = calculate_tree_position(lat, lon, bearing, row['distance'], off)\n",
    "    center_wgs = (\n",
    "        gpd.GeoSeries([center_merc], crs=\"EPSG:3857\")\n",
    "           .to_crs(epsg=4326)\n",
    "           .iloc[0]\n",
    "    )\n",
    "    \n",
    "    length = estimate_length(row)\n",
    "    \n",
    "    tree_dataset.loc[len(tree_dataset)] = {\n",
    "        'fileName':     row['fileName'],\n",
    "        'height':       h,\n",
    "        'width':        w,\n",
    "        'length':       length,\n",
    "        'centerPoint':  center_wgs,\n",
    "        'geometry':     None\n",
    "    }\n",
    "    \n",
    "    print(f\"    -> Stored center at (lat={center_wgs.y:.6f}, lon={center_wgs.x:.6f}), length={length:.2f}m\\n\")\n",
    "\n",
    "print(f\"Done! {len(tree_dataset)} records in tree_dataset.\")"
   ]
  },
  {
   "cell_type": "markdown",
   "metadata": {},
   "source": [
    "### Visualize trees as points"
   ]
  },
  {
   "cell_type": "code",
   "execution_count": null,
   "metadata": {},
   "outputs": [],
   "source": [
    "basemap_gdf = less_makati_buildings.to_crs(epsg=4326)\n",
    "fig, ax = plt.subplots(figsize=(12, 12))\n",
    "\n",
    "basemap_gdf.plot(\n",
    "    ax=ax,\n",
    "    color='lightgray',\n",
    "    edgecolor='black',\n",
    "    alpha=0.6\n",
    ")\n",
    "\n",
    "tree_dataset.set_geometry('centerPoint').plot(\n",
    "    ax=ax,\n",
    "    color='green',\n",
    "    markersize=20,\n",
    "    label='Trees'\n",
    ")\n",
    "\n",
    "ax.set_title('Tree Locations over Makati', fontsize=16)\n",
    "ax.set_xlabel('Longitude')\n",
    "ax.set_ylabel('Latitude')\n",
    "ax.legend()\n",
    "\n",
    "plt.tight_layout()\n",
    "plt.show()"
   ]
  },
  {
   "cell_type": "markdown",
   "metadata": {},
   "source": [
    "## Create tree canopy rectangles"
   ]
  },
  {
   "cell_type": "code",
   "execution_count": null,
   "metadata": {},
   "outputs": [],
   "source": [
    "gdf = tree_dataset.copy().drop(columns=['geometry'], errors='ignore')\n",
    "\n",
    "gdf = gpd.GeoDataFrame(\n",
    "    gdf,\n",
    "    geometry='centerPoint',\n",
    "    crs='EPSG:4326'\n",
    ")\n",
    "\n",
    "gdf_utm = gdf.to_crs(epsg=32651)\n",
    "\n",
    "# Build rotated canopy rectangles (width × length)\n",
    "rects = []\n",
    "total = len(gdf_utm)\n",
    "for idx, row in gdf_utm.iterrows():\n",
    "    bearing = float(row['fileName'].split('_')[1])   # 0°=north, cw+\n",
    "    cx, cy = row.centerPoint.x, row.centerPoint.y\n",
    "    hw, hl = row.width/2.0, row.length/2.0\n",
    "\n",
    "    # Axis-aligned rect around origin\n",
    "    base = box(-hw, -hl, hw, hl)\n",
    "    # Rotate CW by bearing (rotate() is CCW -> use –bearing)\n",
    "    rot = rotate(base, -bearing, origin=(0, 0), use_radians=False)\n",
    "    # Translate into place\n",
    "    rects.append(translate(rot, xoff=cx, yoff=cy))\n",
    "\n",
    "    print(f\"[{idx+1}/{total}] Built canopy at UTM ({cx:.1f}, {cy:.1f}), bearing={bearing}\")\n",
    "\n",
    "# Assign rotated polygons and reproject back to WGS84\n",
    "gdf_utm['geometry'] = rects\n",
    "tree_dataset_final = gdf_utm.to_crs(epsg=4326).copy()"
   ]
  },
  {
   "cell_type": "code",
   "execution_count": null,
   "metadata": {},
   "outputs": [],
   "source": [
    "tree_dataset_final = tree_dataset_final.set_geometry(\"geometry\")\n",
    "tree_dataset_final.set_geometry(\"geometry\", inplace=True)\n",
    "tree_dataset_final = tree_dataset_final.set_crs(epsg=32651, inplace=False)\n",
    "tree_dataset_final = tree_dataset_final.to_crs(epsg=4326)\n",
    "tree_dataset_final"
   ]
  },
  {
   "cell_type": "markdown",
   "metadata": {},
   "source": [
    "## Visualization"
   ]
  },
  {
   "cell_type": "code",
   "execution_count": null,
   "metadata": {},
   "outputs": [],
   "source": [
    "buildings = less_makati_buildings.to_crs(epsg=4326)\n",
    "trees = tree_dataset_final  \n",
    "\n",
    "fig, ax = plt.subplots(figsize=(12, 12))\n",
    "\n",
    "buildings.plot(\n",
    "    ax=ax,\n",
    "    color='lightgray',\n",
    "    edgecolor='black',\n",
    "    alpha=0.5,\n",
    "    linewidth=0.5,\n",
    "    label='Buildings'\n",
    ")\n",
    "\n",
    "trees.plot(\n",
    "    ax=ax,\n",
    "    color='green',\n",
    "    edgecolor='darkgreen',\n",
    "    alpha=0.6,\n",
    "    label='Tree Canopies'\n",
    ")\n",
    "\n",
    "ax.set_title('Tree Canopy Rectangles over Makati Buildings', fontsize=16)\n",
    "ax.set_xlabel('Longitude')\n",
    "ax.set_ylabel('Latitude')\n",
    "ax.legend()\n",
    "\n",
    "plt.tight_layout()\n",
    "\n",
    "output_path = 'tree_canopy_map.png'\n",
    "plt.savefig(output_path, dpi=300)\n",
    "print(f\"Map saved as PNG to: {output_path}\")\n",
    "\n",
    "plt.show()"
   ]
  },
  {
   "cell_type": "markdown",
   "metadata": {},
   "source": [
    "## Export GDF to GeoJSON file"
   ]
  },
  {
   "cell_type": "code",
   "execution_count": null,
   "metadata": {},
   "outputs": [],
   "source": [
    "real = tree_dataset_final.copy()\n",
    "real.drop(columns=['centerPoint'], inplace=True)\n",
    "real.to_file(\"trees_dataset.geojson\", driver=\"GeoJSON\")"
   ]
  }
 ],
 "metadata": {
  "kernelspec": {
   "display_name": "Python 3",
   "language": "python",
   "name": "python3"
  },
  "language_info": {
   "codemirror_mode": {
    "name": "ipython",
    "version": 3
   },
   "file_extension": ".py",
   "mimetype": "text/x-python",
   "name": "python",
   "nbconvert_exporter": "python",
   "pygments_lexer": "ipython3",
   "version": "3.9.0"
  }
 },
 "nbformat": 4,
 "nbformat_minor": 2
}
