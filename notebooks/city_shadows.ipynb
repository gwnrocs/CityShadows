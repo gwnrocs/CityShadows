{
 "cells": [
  {
   "cell_type": "markdown",
   "id": "461f5934",
   "metadata": {},
   "source": [
    "# CityShadows: A Shade-based Route Recommendation Tool\n",
    "\n",
    "This notebook loads building footprints with heights, and tree data from an area in Makati, Metro Manila. It takes a pair of start-end coordinates and recommends a route with the best amount of shade along it given a date and time.\n",
    "\n",
    "### Requirements:\n",
    "- **Python 3.9** in order for pybdshadow to function properly.\n",
    "- .env file containing an **Openrouteservice** (https://openrouteservice.org/) API key (OSM_API)"
   ]
  },
  {
   "cell_type": "markdown",
   "id": "a9930f99",
   "metadata": {},
   "source": [
    "## Libraries"
   ]
  },
  {
   "cell_type": "code",
   "execution_count": null,
   "id": "a90d232c",
   "metadata": {},
   "outputs": [],
   "source": [
    "from dotenv import load_dotenv\n",
    "import geopandas as gpd\n",
    "import matplotlib.pyplot as plt\n",
    "import numpy as np\n",
    "import pandas as pd\n",
    "import polyline\n",
    "import openrouteservice\n",
    "import pybdshadow\n",
    "from shapely.geometry import LineString\n",
    "from shapely.ops import unary_union\n",
    "from shapely import LineString\n",
    "import os\n",
    "import matplotlib.patheffects as pe"
   ]
  },
  {
   "cell_type": "markdown",
   "id": "b6789f7a",
   "metadata": {},
   "source": [
    "## Variables"
   ]
  },
  {
   "cell_type": "markdown",
   "id": "ad1e4aa5",
   "metadata": {},
   "source": [
    "### shp files"
   ]
  },
  {
   "cell_type": "code",
   "execution_count": null,
   "id": "279eccea",
   "metadata": {},
   "outputs": [],
   "source": [
    "small_makati = gpd.read_file(\"../data/smaller_makati.shp\")\n",
    "buildings = gpd.read_file(\"../data/gis_osm_buildings_a_free_1.shp\")\n",
    "less_makati_buildings = buildings[small_makati['geometry'].item().contains(buildings['geometry'])]\n",
    "roads = gpd.read_file(\"../data/gis_osm_roads_free_1.shp\")\n",
    "less_makati_roads = roads[small_makati['geometry'].item().contains(roads['geometry'])]"
   ]
  },
  {
   "cell_type": "markdown",
   "id": "616d818a",
   "metadata": {},
   "source": [
    "### geojson files (buildings + trees)"
   ]
  },
  {
   "cell_type": "code",
   "execution_count": null,
   "id": "2d7588aa",
   "metadata": {},
   "outputs": [],
   "source": [
    "buildings_dataset = gpd.read_file(\"mapping_heights/buildings_dataset.geojson\")\n",
    "trees_dataset = gpd.read_file(\"mapping_heights/trees_dataset.geojson\")\n",
    "tree_clusters = gpd.read_file(\"mapping_heights/tree_clusters.geojson\")"
   ]
  },
  {
   "cell_type": "markdown",
   "id": "6c90e05e",
   "metadata": {},
   "source": [
    "### api"
   ]
  },
  {
   "cell_type": "code",
   "execution_count": null,
   "id": "5c20c0d7",
   "metadata": {},
   "outputs": [],
   "source": [
    "load_dotenv(override=True)\n",
    "OSM_API = os.getenv('OSM_API')"
   ]
  },
  {
   "cell_type": "markdown",
   "id": "d683002a",
   "metadata": {},
   "source": [
    "### start & end coordinates"
   ]
  },
  {
   "cell_type": "code",
   "execution_count": null,
   "id": "9944852c",
   "metadata": {},
   "outputs": [],
   "source": [
    "start_lat, start_long = 121.01035385542158, 14.557826176363248\n",
    "end_lat, end_long = 121.01690365415651, 14.55576083029497"
   ]
  },
  {
   "cell_type": "markdown",
   "id": "558dceeb",
   "metadata": {},
   "source": [
    "### date & time"
   ]
  },
  {
   "cell_type": "code",
   "execution_count": null,
   "id": "2766e9b6",
   "metadata": {},
   "outputs": [],
   "source": [
    "date_time_input = pd.to_datetime('2025-08-08 09:00:00') # year-month-day hour:minute:second"
   ]
  },
  {
   "cell_type": "markdown",
   "id": "1c273a96",
   "metadata": {},
   "source": [
    "## Function Declaration"
   ]
  },
  {
   "cell_type": "markdown",
   "id": "9dd84d27",
   "metadata": {},
   "source": [
    "### Helpers"
   ]
  },
  {
   "cell_type": "code",
   "execution_count": null,
   "id": "d786e185",
   "metadata": {},
   "outputs": [],
   "source": [
    "def convert_ph_to_utc(ph_datetime):\n",
    "    \"\"\"\n",
    "    Converts a datetime in Philippine time to UTC.\n",
    "    \n",
    "    Parameters:\n",
    "      ph_datetime (str or datetime-like): A datetime in Philippine time.\n",
    "    \n",
    "    Returns:\n",
    "      A pandas.Timestamp representing the time in UTC.\n",
    "    \"\"\"\n",
    "    ts = pd.to_datetime(ph_datetime)\n",
    "    ts_utc = ts.tz_localize('Asia/Manila').tz_convert('UTC')\n",
    "    return ts_utc"
   ]
  },
  {
   "cell_type": "markdown",
   "id": "4d8b0d85",
   "metadata": {},
   "source": [
    "### Routing"
   ]
  },
  {
   "cell_type": "code",
   "execution_count": null,
   "id": "f343d8ce",
   "metadata": {},
   "outputs": [],
   "source": [
    "def getOSMRoutes(start_lat, start_long, end_lat, end_long, apiKey):\n",
    "    \"\"\"\n",
    "    Retrieves up to 6 alternative walking routes between two coordinates using the OpenRouteService API.\n",
    "\n",
    "    The function makes two routing requests:\n",
    "    1. With default ORS alternative route settings (weight_factor=1.4, share_factor=0.6).\n",
    "    2. With custom settings (weight_factor=2, share_factor=0.2, preference='shortest').\n",
    "\n",
    "    It deduplicates the results based on the route geometry to ensure only unique routes are returned.\n",
    "\n",
    "    Parameters:\n",
    "        start_lat (float): Latitude of the start location.\n",
    "        start_long (float): Longitude of the start location.\n",
    "        end_lat (float): Latitude of the end location.\n",
    "        end_long (float): Longitude of the end location.\n",
    "        apiKey (str): OpenRouteService API key.\n",
    "\n",
    "    Returns:\n",
    "        list of dict: A list of route dictionaries, each containing:\n",
    "            - 'coordinates': list of (lat, lon) tuples representing the route path.\n",
    "    \"\"\"\n",
    "    client = openrouteservice.Client(key=apiKey)\n",
    "\n",
    "    # 1st Request: Default ORS settings\n",
    "    requestParams1 = {'coordinates': [[start_lat, start_long],\n",
    "                                       [end_lat, end_long]],\n",
    "                      'profile': 'foot-walking',\n",
    "                      'alternative_routes': {\n",
    "                          'target_count': 3,\n",
    "                          'weight_factor': 1.4,\n",
    "                          'share_factor': 0.6\n",
    "                      }}\n",
    "    # 2nd Request: Custom ORS settings \n",
    "    requestParams2 = {'coordinates': [[start_lat, start_long],\n",
    "                                       [end_lat, end_long]],\n",
    "                      'profile': 'foot-walking',\n",
    "                      'alternative_routes': {\n",
    "                          'target_count': 3,\n",
    "                          'weight_factor': 2,\n",
    "                          'share_factor': 0.2\n",
    "                      }, \n",
    "                      'preference': 'shortest'\n",
    "                      }\n",
    "\n",
    "    routeRequest1  = client.directions(**requestParams1)\n",
    "    routeRequest2  = client.directions(**requestParams2)\n",
    "\n",
    "    # Set to store unique geometry strings (routes) only\n",
    "    unique_geometries = set()\n",
    "    routeData = []\n",
    "    routeDistance=[]\n",
    "\n",
    "    for routeRequest in [routeRequest1, routeRequest2]:\n",
    "        for route in routeRequest.get(\"routes\", []):\n",
    "            geometry_str = route[\"geometry\"]  \n",
    "            if geometry_str not in unique_geometries: \n",
    "                unique_geometries.add(geometry_str)\n",
    "                routeData.append(polyline.decode(geometry_str))\n",
    "                routeDistance.append(route['summary']['distance'])\n",
    "    return routeData,routeDistance\n",
    "\n",
    "\n",
    "def convert_routes_to_linestrings(routes):\n",
    "    \"\"\"\n",
    "    Converts a list of route dictionaries into Shapely LineString objects.\n",
    "\n",
    "    This function takes decoded route coordinates (in (lat, lon) format)\n",
    "    and transforms them into LineString geometries (in (lon, lat) format)\n",
    "    for spatial analysis and GIS compatibility.\n",
    "\n",
    "    Parameters:\n",
    "        routes (list of dict): A list of route dictionaries with a key \"coordinates\"\n",
    "            containing a list of (lat, lon) tuples.\n",
    "\n",
    "    Returns:\n",
    "        list of shapely.geometry.LineString: A list of LineString objects representing the routes.\n",
    "    \"\"\"\n",
    "\n",
    "    linestrings = []\n",
    "    for route in routes:\n",
    "        coords = LineString([(lon, lat) for (lat, lon) in route])\n",
    "        linestrings.append(coords)\n",
    "    return linestrings"
   ]
  },
  {
   "cell_type": "markdown",
   "id": "481fbab1",
   "metadata": {},
   "source": [
    "### Detecting nearby buildings"
   ]
  },
  {
   "cell_type": "code",
   "execution_count": null,
   "id": "d2ca1bd1",
   "metadata": {},
   "outputs": [],
   "source": [
    "def extractStructuresNearRoad(road, structureDF, threshold):\n",
    "    \"\"\"\n",
    "    Returns structures within the specified distance threshold from any road LineString.\n",
    "    \n",
    "    Parameters:\n",
    "        road (list of LineStrings): List of road geometries.\n",
    "        structureDF (GeoDataFrame): GeoDataFrame of structures (must have geometry column).\n",
    "        threshold (float): Distance threshold in degrees (e.g., 0.0005 ≈ 55 meters).\n",
    "    \n",
    "    Returns:\n",
    "        GeoDataFrame: Structures near any of the road lines.\n",
    "    \"\"\"\n",
    "    # Use apply to check distance from each building to any of the LineStrings\n",
    "    nearby_structures = structureDF[structureDF.geometry.apply(\n",
    "        lambda geom: any(r.distance(geom) <= threshold for r in road)\n",
    "    )]\n",
    "    return nearby_structures\n",
    "\n",
    "\n",
    "def plotBuildingNearRoad(road, buildingDF, adjacentBuildingsDF):\n",
    "    \"\"\"\n",
    "    Plots all buildings, highlights adjacent buildings in red, and road routes in blue.\n",
    "    \n",
    "    Parameters:\n",
    "        road (list of LineStrings): List of route geometries.\n",
    "        buildingDF (GeoDataFrame): All buildings.\n",
    "        adjacentBuildingsDF (GeoDataFrame): Filtered buildings near road.\n",
    "    \"\"\"\n",
    "    # Convert input to GeoDataFrame if needed\n",
    "    adjacent_buildings = gpd.GeoDataFrame(adjacentBuildingsDF, crs=\"EPSG:4326\")\n",
    "    adjacent_buildings.set_geometry('geometry', inplace=True)\n",
    "    \n",
    "    # Combine road geometries into a GeoSeries for plotting\n",
    "    sample_road = gpd.GeoSeries(road, crs=\"EPSG:4326\")\n",
    "\n",
    "    # Plot\n",
    "    ax = buildingDF.plot(color='lightgray', edgecolor='black', figsize=(10, 10))\n",
    "    adjacent_buildings.plot(ax=ax, color='red', label='Adjacent Buildings')\n",
    "    sample_road.plot(ax=ax, color='blue', label='Road')\n",
    "    \n",
    "    plt.legend()\n",
    "    plt.title(\"Buildings Near Road\")\n",
    "    plt.show()"
   ]
  },
  {
   "cell_type": "markdown",
   "id": "447229dd",
   "metadata": {},
   "source": [
    "### Shadow calculation"
   ]
  },
  {
   "cell_type": "code",
   "execution_count": null,
   "id": "a103655a",
   "metadata": {},
   "outputs": [],
   "source": [
    "def tryGeneratingShadow(structures, date):\n",
    "    # Define a flag that forces the area to be marked as shaded if the time is outside daylight.\n",
    "    force_shade = True\n",
    "    is_daylight = True      # To determine if it is before sunrise or after sunset\n",
    "\n",
    "    # Try to calculate shadows. If the time is before sunrise or after sunset, handle based on force_shade.\n",
    "    try:\n",
    "        shadows = pybdshadow.bdshadow_sunlight(\n",
    "            structures, \n",
    "            date, \n",
    "            height='height',      \n",
    "            roof=False, \n",
    "            include_building=True, \n",
    "            ground=0\n",
    "        )\n",
    "    except ValueError as e:\n",
    "        if \"before sunrise or after sunset\" in str(e) and force_shade:\n",
    "            print(\"Time is outside daylight hours. Marking entire area as shaded (force_shade=True).\")\n",
    "            shadows = structures.copy()  # Entire area is treated as shaded.\n",
    "            is_daylight = False\n",
    "        else:\n",
    "            raise\n",
    "    return shadows, is_daylight\n",
    "\n",
    "\n",
    "def compute_shadow_percentage(route, shadows_gdf):\n",
    "    \"\"\"\n",
    "    Computes the percentage of a route that lies in shadow.\n",
    "\n",
    "    Parameters:\n",
    "      route (shapely.geometry.LineString): The route geometry in EPSG:4326.\n",
    "      shadows_gdf (GeoDataFrame): A GeoDataFrame of shadow geometries (should be EPSG:4326 or have a CRS).\n",
    "\n",
    "    Returns:\n",
    "      float: Percentage of the route length that is shaded (0.0–100.0).\n",
    "    \"\"\"\n",
    "    # Project the route into meters\n",
    "    route_proj = (\n",
    "        gpd.GeoSeries([route], crs=\"EPSG:4326\")\n",
    "           .to_crs(epsg=3857)\n",
    "           .iloc[0]\n",
    "    )\n",
    "\n",
    "    # Ensure shadows have a CRS, then project\n",
    "    if shadows_gdf.crs is None:\n",
    "        shadows_gdf = shadows_gdf.set_crs(\"EPSG:4326\")\n",
    "    shadows_proj = shadows_gdf.to_crs(epsg=3857).copy()\n",
    "\n",
    "    # Repair invalid geometries by buffering zero\n",
    "    shadows_proj[\"geometry\"] = shadows_proj.geometry.buffer(0)\n",
    "\n",
    "    # Drop any empty or still-invalid geometries\n",
    "    valid_geoms = [\n",
    "        geom for geom in shadows_proj.geometry\n",
    "        if geom is not None and not geom.is_empty and geom.is_valid\n",
    "    ]\n",
    "\n",
    "    # Union all the valid shadow polygons\n",
    "    union_shadow = unary_union(valid_geoms)\n",
    "\n",
    "    # Intersect with the route and measure shaded length\n",
    "    inter = route_proj.intersection(union_shadow)\n",
    "    shaded_length = inter.length if not inter.is_empty else 0.0\n",
    "\n",
    "    # Compute percentage\n",
    "    total_length = route_proj.length\n",
    "    if total_length == 0:\n",
    "        return 0.0\n",
    "\n",
    "    return (shaded_length / total_length) * 100.0"
   ]
  },
  {
   "cell_type": "markdown",
   "id": "2bf586ce",
   "metadata": {},
   "source": [
    "## Getting the routes\n",
    "This section generates 3-6 routes from start_lat, start_long to end_lat, end_long. This is done using OpenRouteService with two different routing configurations. The routes are saved as LineString objects for GIS operations."
   ]
  },
  {
   "cell_type": "code",
   "execution_count": null,
   "id": "1c120f56",
   "metadata": {},
   "outputs": [],
   "source": [
    "routes,distances = getOSMRoutes(start_lat, start_long, end_lat, end_long, OSM_API)\n",
    "routes = convert_routes_to_linestrings(routes)\n",
    "routes"
   ]
  },
  {
   "cell_type": "markdown",
   "id": "9204f879",
   "metadata": {},
   "source": [
    "Each linestring will be converted into a polygon to alter its thickness."
   ]
  },
  {
   "cell_type": "code",
   "execution_count": null,
   "id": "c759f276",
   "metadata": {},
   "outputs": [],
   "source": [
    "routes_gdf = gpd.GeoDataFrame(geometry=routes, crs=\"EPSG:4326\")\n",
    "routes_utm = routes_gdf.to_crs(epsg=32651)\n",
    "\n",
    "routes_buffered = routes_utm.copy()\n",
    "routes_buffered[\"geometry\"] = routes_utm.geometry.buffer(5)\n",
    "\n",
    "routes_buffered = routes_buffered.to_crs(epsg=4326)\n",
    "print(routes_buffered)"
   ]
  },
  {
   "cell_type": "markdown",
   "id": "a5feab67",
   "metadata": {},
   "source": [
    "## Finding nearest buildings from route/s whose shadows will be considered\n",
    "This sections gets the nearest buildings from all routes whose shadows will be considered. A higher threshold includes more buildings and vice versa."
   ]
  },
  {
   "cell_type": "code",
   "execution_count": null,
   "id": "85fbdbc3",
   "metadata": {},
   "outputs": [],
   "source": [
    "buildings_gdf4326 = buildings_dataset.to_crs(\"EPSG:4326\")\n",
    "trees_gdf4326     = trees_dataset.to_crs(\"EPSG:4326\")\n",
    "tree_clusters_gdf4326 = tree_clusters.to_crs(\"EPSG:4326\")\n",
    "\n",
    "adjacent_buildings = extractStructuresNearRoad(road = routes, \n",
    "                                               structureDF = buildings_gdf4326, \n",
    "                                               threshold = 0.0005)\n",
    "\n",
    "adjacent_trees = extractStructuresNearRoad( road = routes,\n",
    "                                            structureDF = trees_gdf4326,\n",
    "                                            threshold   = 0.0005)         \n",
    "\n",
    "adjacent_tree_clusters = extractStructuresNearRoad( road = routes,\n",
    "                                            structureDF = tree_clusters_gdf4326,\n",
    "                                            threshold   = 0.0005)                 \n",
    "\n",
    "plotBuildingNearRoad(road = routes, \n",
    "                     buildingDF = buildings_gdf4326,\n",
    "                     adjacentBuildingsDF = adjacent_buildings)\n",
    "\n",
    "\n",
    "plotBuildingNearRoad(road = routes, \n",
    "                     buildingDF = trees_gdf4326,\n",
    "                     adjacentBuildingsDF = adjacent_trees)\n",
    "\n",
    "plotBuildingNearRoad(road = routes, \n",
    "                     buildingDF = tree_clusters_gdf4326,\n",
    "                     adjacentBuildingsDF = adjacent_tree_clusters)"
   ]
  },
  {
   "cell_type": "markdown",
   "id": "86ac61d5",
   "metadata": {},
   "source": [
    "## Shadow calculation of buildings and trees"
   ]
  },
  {
   "cell_type": "code",
   "execution_count": null,
   "id": "4a403a4e",
   "metadata": {},
   "outputs": [],
   "source": [
    "processed_buildings = pybdshadow.bd_preprocess(adjacent_buildings, height='height')\n",
    "processed_trees = pybdshadow.bd_preprocess(adjacent_trees, height='height')"
   ]
  },
  {
   "cell_type": "code",
   "execution_count": null,
   "id": "fcd8a70d",
   "metadata": {},
   "outputs": [],
   "source": [
    "date = pd.to_datetime(convert_ph_to_utc(date_time_input))  \n",
    "\n",
    "shadows_buildings, is_daylight = tryGeneratingShadow(processed_buildings, date)\n",
    "shadows_trees, is_daylight = tryGeneratingShadow(processed_trees, date)"
   ]
  },
  {
   "cell_type": "code",
   "execution_count": null,
   "id": "71957d07",
   "metadata": {},
   "outputs": [],
   "source": [
    "shadows_buildings, is_daylight = tryGeneratingShadow(processed_buildings, date)\n",
    "shadows_trees, is_daylight = tryGeneratingShadow(processed_trees, date)\n",
    "\n",
    "routes_gdf= gpd.GeoDataFrame(geometry=routes, crs=\"EPSG:4326\")\n",
    "\n",
    "# Plot\n",
    "fig, ax = plt.subplots(figsize=(10, 10))\n",
    "processed_buildings.plot(ax=ax, color='blue', alpha=0.7, label='Buildings')\n",
    "shadows_buildings.plot(ax=ax, color='gray', alpha=0.5, edgecolor='black', label='Shadows')\n",
    "processed_trees.plot(ax=ax, color='green', alpha=0.7, label='Trees')\n",
    "shadows_trees.plot(ax=ax, color='gray', alpha=0.5, edgecolor='black', label='Shadows')\n",
    "adjacent_tree_clusters.plot(ax=ax, color='gray', alpha=0.5, label='Shadows')\n",
    "\n",
    "routes_gdf.plot(ax=ax, color='red', linewidth=2, label='Route(s)')\n",
    "plt.legend()\n",
    "plt.title(\"Building and Tree Shadows\")\n",
    "plt.show()"
   ]
  },
  {
   "cell_type": "markdown",
   "id": "74c7d276",
   "metadata": {},
   "source": [
    "## Route recommendation"
   ]
  },
  {
   "cell_type": "code",
   "execution_count": null,
   "id": "3eb9f16e",
   "metadata": {},
   "outputs": [],
   "source": [
    "NATIVE_CRS = \"EPSG:4326\"\n",
    "\n",
    "for name, gdf in [\n",
    "    (\"shadows_buildings\", shadows_buildings),\n",
    "    (\"shadows_trees\",    shadows_trees),\n",
    "    (\"tree_clusters\",    tree_clusters),\n",
    "    (\"processed_trees\",  processed_trees),\n",
    "    (\"routes_buffered\",  routes_buffered),\n",
    "]:\n",
    "    if gdf.crs is None:\n",
    "        gdf.set_crs(NATIVE_CRS, inplace=True)\n",
    "        print(f\"Assigned CRS {NATIVE_CRS} to {name}\")\n",
    "\n",
    "crs_target = shadows_buildings.crs\n",
    "\n",
    "sb = shadows_buildings.to_crs(crs_target)\n",
    "st = shadows_trees.to_crs(crs_target)\n",
    "tc = tree_clusters[['geometry']].to_crs(crs_target)\n",
    "pt = processed_trees[['geometry']].to_crs(crs_target)\n",
    "\n",
    "shaded_areas = gpd.GeoDataFrame(\n",
    "    pd.concat([sb, st, tc, pt], ignore_index=True),\n",
    "    crs=crs_target\n",
    ")\n",
    "\n",
    "# repair any invalid polygons in shaded_areas\n",
    "shaded_areas['geometry'] = shaded_areas.geometry.buffer(0)\n",
    "shaded_areas = shaded_areas[shaded_areas.is_valid]"
   ]
  },
  {
   "cell_type": "code",
   "execution_count": null,
   "id": "7a7b3016",
   "metadata": {},
   "outputs": [],
   "source": [
    "# Compute and print shaded percentage for each route\n",
    "percentages = []\n",
    "print(\"Shaded percentage per route:\")\n",
    "for idx, buf_poly in enumerate(routes_buffered.geometry):\n",
    "    centerline = buf_poly.boundary  \n",
    "    prc = compute_shadow_percentage(centerline, shaded_areas)\n",
    "    percentages.append(prc)\n",
    "    print(f\"  Route {idx}: {prc:.2f}, length={distances[idx]} meters\")\n",
    "\n",
    "# Tie‐breaker logic to pick the best route\n",
    "best_idx = percentages.index(max(percentages))\n",
    "lengths = routes_gdf.geometry.length\n",
    "dupes = [(i, p, lengths[i]) for i, p in enumerate(percentages) if p == percentages[best_idx]]\n",
    "if len(dupes) > 1:\n",
    "    # choose shortest among the tied routes\n",
    "    best_idx = dupes[np.argmin([d[2] for d in dupes])][0]\n",
    "\n",
    "best_dist = percentages[best_idx]\n",
    "print(f\"\\nBest route is #{best_idx}: {best_dist:.2f}% shaded, length={distances[best_idx] * percentages[best_idx] / 100}\")"
   ]
  },
  {
   "cell_type": "markdown",
   "id": "902524f7",
   "metadata": {},
   "source": [
    "## Route Visualizations"
   ]
  },
  {
   "cell_type": "code",
   "execution_count": null,
   "id": "b506245c",
   "metadata": {},
   "outputs": [],
   "source": [
    "fig, ax = plt.subplots(figsize=(10, 10))\n",
    "\n",
    "# plot all the layers\n",
    "routes_gdf.plot(ax=ax, color='lightgray', linewidth=1, label='Other Routes')\n",
    "routes_gdf.iloc[[best_idx]].plot(\n",
    "    ax=ax, color='red', linewidth=3,\n",
    "    label=f'Chosen Route ({percentages[best_idx]:.1f}% shaded)'\n",
    ")\n",
    "processed_buildings.plot(ax=ax, color='blue', alpha=0.7, label='Buildings')\n",
    "shadows_buildings.plot(ax=ax, color='gray', alpha=0.5, label='Building Shadows')\n",
    "adjacent_tree_clusters.plot(ax=ax, color='gray', alpha=0.5, label='Tree Cluster Shadows')\n",
    "routes_buffered.plot(ax=ax, color='lightblue', alpha=0.3, label='Routes')\n",
    "processed_trees.plot(ax=ax, color='darkgreen', alpha=0.7, label='Trees')\n",
    "shadows_trees.plot(ax=ax, color='lightgreen', alpha=0.5, label='Tree Shadows')\n",
    "\n",
    "for idx, row in routes_gdf.iterrows():\n",
    "    x, y = row.geometry.representative_point().coords[0]\n",
    "    txt = f\"{idx}: {percentages[idx]:.1f}%\"\n",
    "    color = 'red' if idx == best_idx else 'black'\n",
    "    ax.text(\n",
    "        x, y, txt,\n",
    "        ha='center', va='center',\n",
    "        fontsize=10, fontweight='bold',\n",
    "        color=color,\n",
    "        path_effects=[\n",
    "            pe.Stroke(linewidth=3, foreground='white'),\n",
    "            pe.Normal()\n",
    "        ]\n",
    "    )\n",
    "\n",
    "ax.legend()\n",
    "ax.set_title(\"Best Route with Both Building & Tree Shading\")\n",
    "ax.set_xlabel(\"Longitude\")\n",
    "ax.set_ylabel(\"Latitude\")\n",
    "plt.tight_layout()\n",
    "plt.show()"
   ]
  },
  {
   "cell_type": "code",
   "execution_count": null,
   "id": "9c546fec",
   "metadata": {},
   "outputs": [],
   "source": [
    "fig, ax = plt.subplots(figsize=(10, 10))\n",
    "\n",
    "routes_gdf.plot(ax=ax, color='lightgray', linewidth=1, label='Other Routes')\n",
    "\n",
    "routes_gdf.iloc[[best_idx]].plot(\n",
    "    ax=ax, color='red', linewidth=3,\n",
    "    label=f'Chosen Route ({best_dist:.1f} distance experienced.)'\n",
    ")\n",
    "\n",
    "processed_buildings.plot(ax=ax, color='blue', alpha=0.7, label='Buildings')\n",
    "shadows_buildings.plot(ax=ax, color='gray', alpha=0.5, label='Building Shadows')\n",
    "adjacent_tree_clusters.plot(ax=ax, color='gray', alpha=0.5, label='Tree Cluster Shadows')\n",
    "routes_buffered.plot(ax=ax, color='lightblue', alpha=0.3, label='Routes')\n",
    "\n",
    "processed_trees.plot(ax=ax, color='darkgreen', alpha=0.7, label='Trees')\n",
    "shadows_trees.plot(ax=ax, color='lightgreen', alpha=0.5, label='Tree Shadows')\n",
    "\n",
    "ax.legend()\n",
    "ax.set_title(\"Best Route with Both Building & Tree Shading\")\n",
    "ax.set_xlabel(\"Longitude\")\n",
    "ax.set_ylabel(\"Latitude\")\n",
    "plt.tight_layout()\n",
    "plt.show()"
   ]
  }
 ],
 "metadata": {
  "kernelspec": {
   "display_name": "Python 3",
   "language": "python",
   "name": "python3"
  },
  "language_info": {
   "codemirror_mode": {
    "name": "ipython",
    "version": 3
   },
   "file_extension": ".py",
   "mimetype": "text/x-python",
   "name": "python",
   "nbconvert_exporter": "python",
   "pygments_lexer": "ipython3",
   "version": "3.9.0"
  }
 },
 "nbformat": 4,
 "nbformat_minor": 5
}
